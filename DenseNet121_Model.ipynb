{
  "nbformat": 4,
  "nbformat_minor": 0,
  "metadata": {
    "colab": {
      "provenance": [],
      "gpuType": "T4"
    },
    "kernelspec": {
      "name": "python3",
      "display_name": "Python 3"
    },
    "language_info": {
      "name": "python"
    },
    "accelerator": "GPU"
  },
  "cells": [
    {
      "cell_type": "markdown",
      "source": [
        "# Import Library"
      ],
      "metadata": {
        "id": "599UyyMcMBs7"
      }
    },
    {
      "cell_type": "code",
      "source": [
        "import kagglehub\n",
        "import os, datetime\n",
        "import tensorflow as tf\n",
        "from tensorflow.keras.preprocessing.image import ImageDataGenerator\n",
        "from tensorflow.keras.applications import DenseNet121\n",
        "from tensorflow.keras import layers, models\n",
        "from sklearn.metrics import accuracy_score, precision_score, recall_score, f1_score, classification_report\n",
        "import matplotlib.pyplot as plt\n",
        "import numpy as np"
      ],
      "metadata": {
        "id": "bLt6yIo2MFYG"
      },
      "execution_count": 1,
      "outputs": []
    },
    {
      "cell_type": "markdown",
      "source": [
        "# Data Downloading"
      ],
      "metadata": {
        "id": "Vbje_jIWMHI0"
      }
    },
    {
      "cell_type": "code",
      "source": [
        "path = kagglehub.dataset_download(\"xhlulu/140k-real-and-fake-faces\")\n",
        "print(\"Path to dataset files:\", path)"
      ],
      "metadata": {
        "id": "eNYyjInUML3Y",
        "colab": {
          "base_uri": "https://localhost:8080/"
        },
        "outputId": "e78a3894-c460-495b-95da-cd9b3b1f80dd"
      },
      "execution_count": 2,
      "outputs": [
        {
          "output_type": "stream",
          "name": "stdout",
          "text": [
            "Path to dataset files: /kaggle/input/140k-real-and-fake-faces\n"
          ]
        }
      ]
    },
    {
      "cell_type": "markdown",
      "source": [
        "# Data Loading"
      ],
      "metadata": {
        "id": "khahmbsrMNV6"
      }
    },
    {
      "cell_type": "code",
      "source": [
        "base_dir = \"/kaggle/input/140k-real-and-fake-faces/real_vs_fake/real-vs-fake/\"\n",
        "train_dir = os.path.join(base_dir, 'train')\n",
        "test_dir = os.path.join(base_dir, 'test')\n",
        "valid_dir = os.path.join(base_dir, 'valid')\n",
        "train_datagen = ImageDataGenerator(rescale=1.0/255.)\n",
        "test_datagen = ImageDataGenerator(rescale=1.0/255.)\n",
        "valid_datagen = ImageDataGenerator(rescale=1.0/255.)\n",
        "train_generator = train_datagen.flow_from_directory(\n",
        "    train_dir, batch_size=32, class_mode='binary', target_size=(150, 150))\n",
        "validation_generator = valid_datagen.flow_from_directory(\n",
        "    valid_dir, batch_size=32, class_mode='binary', target_size=(150, 150))\n",
        "test_generator = test_datagen.flow_from_directory(\n",
        "    test_dir, batch_size=32, class_mode='binary', target_size=(150, 150), shuffle=False)"
      ],
      "metadata": {
        "id": "FoFu0qlZMPUd",
        "colab": {
          "base_uri": "https://localhost:8080/"
        },
        "outputId": "71277671-71af-40cb-e540-c814f526d95c"
      },
      "execution_count": 3,
      "outputs": [
        {
          "output_type": "stream",
          "name": "stdout",
          "text": [
            "Found 100000 images belonging to 2 classes.\n",
            "Found 20000 images belonging to 2 classes.\n",
            "Found 20000 images belonging to 2 classes.\n"
          ]
        }
      ]
    },
    {
      "cell_type": "markdown",
      "source": [
        "# DenseNet121 Model"
      ],
      "metadata": {
        "id": "PFhs4RN_MV5j"
      }
    },
    {
      "cell_type": "code",
      "execution_count": 6,
      "metadata": {
        "id": "s3Q6-FOcL7qq"
      },
      "outputs": [],
      "source": [
        "base_model = DenseNet121(include_top=False, input_shape=(150, 150, 3), weights='imagenet')\n",
        "base_model.trainable = False\n",
        "model = models.Sequential([\n",
        "    base_model,\n",
        "    layers.GlobalAveragePooling2D(),\n",
        "    layers.Dense(256, activation='relu'),\n",
        "    layers.Dropout(0.5),\n",
        "    layers.Dense(1, activation='sigmoid')\n",
        "])\n",
        "model.compile(optimizer='adam', loss='binary_crossentropy', metrics=['accuracy'])"
      ]
    },
    {
      "cell_type": "markdown",
      "source": [
        "# Model Training"
      ],
      "metadata": {
        "id": "XGV0LygMMjUs"
      }
    },
    {
      "cell_type": "code",
      "source": [
        "history = model.fit(\n",
        "    train_generator,\n",
        "    validation_data=validation_generator,\n",
        "    epochs=10,\n",
        "    validation_steps=50,\n",
        "    verbose=1\n",
        ")"
      ],
      "metadata": {
        "id": "qspLrX96MiAo",
        "colab": {
          "base_uri": "https://localhost:8080/"
        },
        "outputId": "d395b67b-9f9d-4c8f-be6a-dbd43ee0011f"
      },
      "execution_count": null,
      "outputs": [
        {
          "metadata": {
            "tags": null
          },
          "name": "stderr",
          "output_type": "stream",
          "text": [
            "/usr/local/lib/python3.11/dist-packages/keras/src/trainers/data_adapters/py_dataset_adapter.py:121: UserWarning: Your `PyDataset` class should call `super().__init__(**kwargs)` in its constructor. `**kwargs` can include `workers`, `use_multiprocessing`, `max_queue_size`. Do not pass these arguments to `fit()`, as they will be ignored.\n",
            "  self._warn_if_super_not_called()\n"
          ]
        },
        {
          "output_type": "stream",
          "name": "stdout",
          "text": [
            "Epoch 1/10\n",
            "\u001b[1m3125/3125\u001b[0m \u001b[32m━━━━━━━━━━━━━━━━━━━━\u001b[0m\u001b[37m\u001b[0m \u001b[1m443s\u001b[0m 133ms/step - accuracy: 0.7165 - loss: 0.5606 - val_accuracy: 0.7756 - val_loss: 0.4630\n",
            "Epoch 2/10\n",
            "\u001b[1m3125/3125\u001b[0m \u001b[32m━━━━━━━━━━━━━━━━━━━━\u001b[0m\u001b[37m\u001b[0m \u001b[1m218s\u001b[0m 66ms/step - accuracy: 0.7733 - loss: 0.4727 - val_accuracy: 0.7856 - val_loss: 0.4604\n",
            "Epoch 3/10\n",
            "\u001b[1m3125/3125\u001b[0m \u001b[32m━━━━━━━━━━━━━━━━━━━━\u001b[0m\u001b[37m\u001b[0m \u001b[1m261s\u001b[0m 84ms/step - accuracy: 0.7885 - loss: 0.4517 - val_accuracy: 0.8050 - val_loss: 0.4360\n",
            "Epoch 4/10\n",
            "\u001b[1m3125/3125\u001b[0m \u001b[32m━━━━━━━━━━━━━━━━━━━━\u001b[0m\u001b[37m\u001b[0m \u001b[1m211s\u001b[0m 68ms/step - accuracy: 0.7969 - loss: 0.4359 - val_accuracy: 0.8313 - val_loss: 0.3948\n",
            "Epoch 5/10\n",
            "\u001b[1m3125/3125\u001b[0m \u001b[32m━━━━━━━━━━━━━━━━━━━━\u001b[0m\u001b[37m\u001b[0m \u001b[1m256s\u001b[0m 66ms/step - accuracy: 0.8076 - loss: 0.4229 - val_accuracy: 0.8006 - val_loss: 0.4274\n",
            "Epoch 6/10\n",
            "\u001b[1m3125/3125\u001b[0m \u001b[32m━━━━━━━━━━━━━━━━━━━━\u001b[0m\u001b[37m\u001b[0m \u001b[1m207s\u001b[0m 66ms/step - accuracy: 0.8097 - loss: 0.4128 - val_accuracy: 0.8213 - val_loss: 0.4148\n",
            "Epoch 7/10\n",
            "\u001b[1m3125/3125\u001b[0m \u001b[32m━━━━━━━━━━━━━━━━━━━━\u001b[0m\u001b[37m\u001b[0m \u001b[1m262s\u001b[0m 66ms/step - accuracy: 0.8168 - loss: 0.4050 - val_accuracy: 0.8144 - val_loss: 0.4030\n",
            "Epoch 8/10\n",
            "\u001b[1m3125/3125\u001b[0m \u001b[32m━━━━━━━━━━━━━━━━━━━━\u001b[0m\u001b[37m\u001b[0m \u001b[1m262s\u001b[0m 84ms/step - accuracy: 0.8180 - loss: 0.3979 - val_accuracy: 0.8281 - val_loss: 0.4014\n",
            "Epoch 9/10\n",
            "\u001b[1m3125/3125\u001b[0m \u001b[32m━━━━━━━━━━━━━━━━━━━━\u001b[0m\u001b[37m\u001b[0m \u001b[1m210s\u001b[0m 67ms/step - accuracy: 0.8237 - loss: 0.3901 - val_accuracy: 0.8213 - val_loss: 0.3815\n",
            "Epoch 10/10\n",
            "\u001b[1m1334/3125\u001b[0m \u001b[32m━━━━━━━━\u001b[0m\u001b[37m━━━━━━━━━━━━\u001b[0m \u001b[1m1:53\u001b[0m 64ms/step - accuracy: 0.8244 - loss: 0.3865"
          ]
        }
      ]
    },
    {
      "cell_type": "markdown",
      "source": [
        "# Plot Results"
      ],
      "metadata": {
        "id": "6ePPpb8lMtyM"
      }
    },
    {
      "cell_type": "code",
      "source": [
        "plt.plot(history.history['accuracy'])\n",
        "plt.plot(history.history['val_accuracy'])\n",
        "plt.title('Model Accuracy')\n",
        "plt.ylabel('Accuracy')\n",
        "plt.xlabel('Epoch')\n",
        "plt.legend(['Train', 'Val'], loc='upper right')\n",
        "plt.show()\n",
        "plt.plot(history.history['loss'])\n",
        "plt.plot(history.history['val_loss'])\n",
        "plt.title('Model Loss')\n",
        "plt.ylabel('Loss')\n",
        "plt.xlabel('Epoch')\n",
        "plt.legend(['Train', 'Val'], loc='upper right')\n",
        "plt.show()"
      ],
      "metadata": {
        "id": "Vxad623fMv_z"
      },
      "execution_count": null,
      "outputs": []
    },
    {
      "cell_type": "markdown",
      "source": [
        "# Evalaution Metrics Results"
      ],
      "metadata": {
        "id": "mmZEdXdrM0Zz"
      }
    },
    {
      "cell_type": "code",
      "source": [
        "test_generator.reset()\n",
        "y_pred_probs = model.predict(test_generator, verbose=1)\n",
        "y_pred = (y_pred_probs > 0.5).astype(int).flatten()\n",
        "y_true = test_generator.classes\n",
        "accuracy = accuracy_score(y_true, y_pred)\n",
        "precision = precision_score(y_true, y_pred)\n",
        "recall = recall_score(y_true, y_pred)\n",
        "f1 = f1_score(y_true, y_pred)\n",
        "print(\"Evaluation Metrics:\")\n",
        "print(f\"Accuracy : {accuracy:.4f}\")\n",
        "print(f\"Precision: {precision:.4f}\")\n",
        "print(f\"Recall   : {recall:.4f}\")\n",
        "print(f\"F1-Score : {f1:.4f}\")"
      ],
      "metadata": {
        "id": "uLnHFC1nM3Bc",
        "colab": {
          "base_uri": "https://localhost:8080/"
        },
        "outputId": "01dc3f8b-cd3f-4da2-ca6c-535f82cf28d3"
      },
      "execution_count": 9,
      "outputs": [
        {
          "output_type": "stream",
          "name": "stdout",
          "text": [
            "\u001b[1m625/625\u001b[0m \u001b[32m━━━━━━━━━━━━━━━━━━━━\u001b[0m\u001b[37m\u001b[0m \u001b[1m87s\u001b[0m 122ms/step\n",
            "Evaluation Metrics:\n",
            "Accuracy : 0.8295\n",
            "Precision: 0.8139\n",
            "Recall   : 0.8543\n",
            "F1-Score : 0.8336\n"
          ]
        }
      ]
    }
  ]
}